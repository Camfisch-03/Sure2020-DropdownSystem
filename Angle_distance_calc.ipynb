{
 "cells": [
  {
   "cell_type": "code",
   "execution_count": 80,
   "metadata": {},
   "outputs": [],
   "source": [
    "import numpy as np\n",
    "\n",
    "r_earth = 6371000.0"
   ]
  },
  {
   "cell_type": "code",
   "execution_count": 82,
   "metadata": {},
   "outputs": [],
   "source": [
    "lat1 = 42.036256\n",
    "lon1 = -88.195639\n",
    "alt1 = 260\n",
    "lat2 = 42.036415\n",
    "lon2 = -88.195671\n",
    "alt2 = 500\n"
   ]
  },
  {
   "cell_type": "code",
   "execution_count": 83,
   "metadata": {},
   "outputs": [],
   "source": [
    "lat1 = np.deg2rad(lat1)\n",
    "lon1 = np.deg2rad(lon1)\n",
    "lat2 = np.deg2rad(lat2)\n",
    "lon2 = np.deg2rad(lon2)\n"
   ]
  },
  {
   "cell_type": "code",
   "execution_count": 84,
   "metadata": {},
   "outputs": [
    {
     "name": "stdout",
     "output_type": "stream",
     "text": [
      "degrees clockwise from north: \n",
      "351.49848048210106\n"
     ]
    }
   ],
   "source": [
    "X = np.cos(lat2) * np.sin(lon2 - lon1)\n",
    "Y = np.cos(lat1) * np.sin(lat2) - np.sin(lat1) * np.cos(lat2) * np.cos(lon2 - lon1)\n",
    "theta = np.rad2deg(np.arctan2(X,Y))\n",
    "print(\"degrees clockwise from north: \")\n",
    "if theta < 0:\n",
    "    print(theta + 360)\n",
    "else:\n",
    "    print(theta)\n",
    "\n"
   ]
  },
  {
   "cell_type": "code",
   "execution_count": 90,
   "metadata": {},
   "outputs": [
    {
     "name": "stdout",
     "output_type": "stream",
     "text": [
      "meters away in a straight line: \n",
      "240.66493175159525\n"
     ]
    }
   ],
   "source": [
    "gamma = np.arccos(np.sin(lat1) * np.sin(lat2) + np.cos(lat1) * np.cos(lat2) * np.cos(lon2 - lon1))\n",
    "\n",
    "a = r_earth + alt1\n",
    "b = r_earth + alt2\n",
    "c = np.sqrt(a * a + b * b - 2 * a * b * np.cos(gamma))\n",
    "print(\"meters away in a straight line: \")\n",
    "print(c)"
   ]
  },
  {
   "cell_type": "code",
   "execution_count": 87,
   "metadata": {},
   "outputs": [
    {
     "name": "stdout",
     "output_type": "stream",
     "text": [
      "degrees above the horizon: \n",
      "85.73981952189479\n"
     ]
    }
   ],
   "source": [
    "beta = np.arccos((a*a+c*c-b*b)/(2*a*c))\n",
    "deg = np.rad2deg(beta) - 90 \n",
    "print(\"degrees above the horizon: \")\n",
    "print(deg)"
   ]
  },
  {
   "cell_type": "code",
   "execution_count": 88,
   "metadata": {},
   "outputs": [
    {
     "name": "stdout",
     "output_type": "stream",
     "text": [
      "meters away by land: \n",
      "17.8763443363582\n"
     ]
    }
   ],
   "source": [
    "print(\"meters away by land: \")\n",
    "print(gamma * r_earth)"
   ]
  }
 ],
 "metadata": {
  "kernelspec": {
   "display_name": "Python 3",
   "language": "python",
   "name": "python3"
  },
  "language_info": {
   "codemirror_mode": {
    "name": "ipython",
    "version": 3
   },
   "file_extension": ".py",
   "mimetype": "text/x-python",
   "name": "python",
   "nbconvert_exporter": "python",
   "pygments_lexer": "ipython3",
   "version": "3.7.6"
  }
 },
 "nbformat": 4,
 "nbformat_minor": 4
}
